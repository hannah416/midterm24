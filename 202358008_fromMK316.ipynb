{
  "nbformat": 4,
  "nbformat_minor": 0,
  "metadata": {
    "colab": {
      "provenance": [],
      "include_colab_link": true
    },
    "kernelspec": {
      "name": "python3",
      "display_name": "Python 3"
    },
    "language_info": {
      "name": "python"
    }
  },
  "cells": [
    {
      "cell_type": "markdown",
      "metadata": {
        "id": "view-in-github",
        "colab_type": "text"
      },
      "source": [
        "<a href=\"https://colab.research.google.com/github/hannah416/midterm24/blob/main/202358008_fromMK316.ipynb\" target=\"_parent\"><img src=\"https://colab.research.google.com/assets/colab-badge.svg\" alt=\"Open In Colab\"/></a>"
      ]
    },
    {
      "cell_type": "markdown",
      "source": [
        "# 🌀Midterm 2024: Hannah Jang (202358008)\n",
        "\n",
        "😍 Check my comments below (3AM, 0501)\n",
        "\n",
        "\n"
      ],
      "metadata": {
        "id": "trApWpLuwFhD"
      }
    },
    {
      "cell_type": "markdown",
      "source": [
        "## Variable Question\n",
        "\n",
        "# Mary 1998 Ohio and John 1999 Boston\n",
        "\n"
      ],
      "metadata": {
        "id": "vww-Ul0zxmZs"
      }
    },
    {
      "cell_type": "code",
      "source": [
        "name = input(\"Name:Mary,John\"); born in = input('born_in:1998,1999'); hometown = input('hometown:Ohio,Boston')\n",
        "\n",
        "\n",
        "print(f\"Hello, my name is {name}. I was born in {born_in} and I'm from {hometown}. Nice to meet you!\")"
      ],
      "metadata": {
        "id": "fw4hFXidBwbv",
        "outputId": "c7598788-c117-4997-a3e8-81d4716211c1",
        "colab": {
          "base_uri": "https://localhost:8080/",
          "height": 110
        }
      },
      "execution_count": 1,
      "outputs": [
        {
          "output_type": "error",
          "ename": "SyntaxError",
          "evalue": "invalid syntax (<ipython-input-1-9448297ff47b>, line 1)",
          "traceback": [
            "\u001b[0;36m  File \u001b[0;32m\"<ipython-input-1-9448297ff47b>\"\u001b[0;36m, line \u001b[0;32m1\u001b[0m\n\u001b[0;31m    name = input(\"Name:Mary,John\"); born in = input('born_in:1998,1999'); hometown = input('hometown:Ohio,Boston')\u001b[0m\n\u001b[0m                                            ^\u001b[0m\n\u001b[0;31mSyntaxError\u001b[0m\u001b[0;31m:\u001b[0m invalid syntax\n"
          ]
        }
      ]
    },
    {
      "cell_type": "markdown",
      "source": [
        "### 😍 To fix the error, see the code below"
      ],
      "metadata": {
        "id": "ZVia6DaMI-H_"
      }
    },
    {
      "cell_type": "code",
      "source": [
        "name = input(\"Name:\"); born_in = input('born_in:'); hometown = input('hometown:')\n",
        "\n",
        "print(f\"Hello, my name is {name}. I was born in {born_in} and I'm from {hometown}. Nice to meet you!\")"
      ],
      "metadata": {
        "id": "h8DE4082I8PN",
        "outputId": "39341210-8139-4949-cbf2-74fa662cf4c7",
        "colab": {
          "base_uri": "https://localhost:8080/"
        }
      },
      "execution_count": 2,
      "outputs": [
        {
          "output_type": "stream",
          "name": "stdout",
          "text": [
            "Name:Mary\n",
            "born_in:1998\n",
            "hometown:Ohio\n",
            "Hello, my name is Mary. I was born in 1998 and I'm from Ohio. Nice to meet you!\n"
          ]
        }
      ]
    },
    {
      "cell_type": "markdown",
      "source": [
        "## Index Question (😍 Goog job!)\n",
        "\n",
        "# Dropdown\n",
        "\n"
      ],
      "metadata": {
        "id": "IyUkGc_h4A85"
      }
    },
    {
      "cell_type": "code",
      "source": [
        "cardinal_number = \"2\" #@param = [\"1\",\"2\",\"3\",\"4\"]\n",
        "\n",
        "cardinal_number = int(cardinal_number) - 1\n",
        "\n",
        "words = [\"First\", \"Second\", \"Third\", \"Fourth\"]\n",
        "\n",
        "\n",
        "print(\"The ordinal expression:\", words[cardinal_number])"
      ],
      "metadata": {
        "id": "CRh_80YwB1hS",
        "outputId": "762f171f-5f2c-4846-f7eb-6a9ef1d2b9d4",
        "colab": {
          "base_uri": "https://localhost:8080/"
        }
      },
      "execution_count": 3,
      "outputs": [
        {
          "output_type": "stream",
          "name": "stdout",
          "text": [
            "The ordinal expression: Second\n"
          ]
        }
      ]
    },
    {
      "cell_type": "markdown",
      "source": [
        "## Name Question (😍 It works!)\n",
        "\n",
        "# Name Question <= 😍Do we need this?\n"
      ],
      "metadata": {
        "id": "lX2vCR1k53gg"
      }
    },
    {
      "cell_type": "code",
      "source": [
        "x = \"My name is\"\n",
        "y = \"Hannah\"\n",
        "\n",
        "print(f\"{x} {y}.\")\n"
      ],
      "metadata": {
        "id": "HYiwBIRoB4Th",
        "outputId": "aaae5dc4-8ab0-424b-ec2b-f0bf62a7a78e",
        "colab": {
          "base_uri": "https://localhost:8080/"
        }
      },
      "execution_count": 4,
      "outputs": [
        {
          "output_type": "stream",
          "name": "stdout",
          "text": [
            "My name is Hannah.\n"
          ]
        }
      ]
    },
    {
      "cell_type": "markdown",
      "source": [
        "😍 Let's use input function to get any name including yours. See the code below"
      ],
      "metadata": {
        "id": "opJ-me7oJr0S"
      }
    },
    {
      "cell_type": "code",
      "source": [
        "x = \"My name is\"\n",
        "y = input()           #\"Hannah\"\n",
        "\n",
        "print(f\"{x} {y}.\")"
      ],
      "metadata": {
        "id": "QbW4jxkdJxF8",
        "outputId": "80af7a6b-7ca1-4a20-d220-7a17d7addeb9",
        "colab": {
          "base_uri": "https://localhost:8080/"
        }
      },
      "execution_count": 6,
      "outputs": [
        {
          "output_type": "stream",
          "name": "stdout",
          "text": [
            "Mary\n",
            "My name is Mary.\n"
          ]
        }
      ]
    },
    {
      "cell_type": "markdown",
      "source": [
        "## Dictionary Question (😍Goog work! The minor problem is in the empty space before the last code print().)\n",
        "\n"
      ],
      "metadata": {
        "id": "Rz0R-cJ26_a-"
      }
    },
    {
      "cell_type": "code",
      "source": [
        "grades = {\n",
        "    \"Hannah\": 99,\n",
        "    \"Han\": 98,\n",
        "    \"Bob\": 80\n",
        "    }\n",
        "    print(grades[\"Bob\"])"
      ],
      "metadata": {
        "id": "5zv7Tav07Gbc",
        "outputId": "b562fe88-8dfe-4eb1-bcbf-b8051061e0fb",
        "colab": {
          "base_uri": "https://localhost:8080/",
          "height": 110
        }
      },
      "execution_count": 7,
      "outputs": [
        {
          "output_type": "error",
          "ename": "IndentationError",
          "evalue": "unexpected indent (<ipython-input-7-569e0e81d51e>, line 6)",
          "traceback": [
            "\u001b[0;36m  File \u001b[0;32m\"<ipython-input-7-569e0e81d51e>\"\u001b[0;36m, line \u001b[0;32m6\u001b[0m\n\u001b[0;31m    print(grades[\"Bob\"])\u001b[0m\n\u001b[0m    ^\u001b[0m\n\u001b[0;31mIndentationError\u001b[0m\u001b[0;31m:\u001b[0m unexpected indent\n"
          ]
        }
      ]
    },
    {
      "cell_type": "markdown",
      "source": [
        "😍 To fix this error:"
      ],
      "metadata": {
        "id": "mI-9zKOjKU4T"
      }
    },
    {
      "cell_type": "code",
      "source": [
        "grades = {\n",
        "    \"Hannah\": 99,\n",
        "    \"Han\": 98,\n",
        "    \"Bob\": 80\n",
        "    }\n",
        "print(grades[\"Bob\"])"
      ],
      "metadata": {
        "id": "kCAvn2IkKXCo",
        "outputId": "4ff081ff-9d16-4af3-bcab-e4272039faf8",
        "colab": {
          "base_uri": "https://localhost:8080/"
        }
      },
      "execution_count": 8,
      "outputs": [
        {
          "output_type": "stream",
          "name": "stdout",
          "text": [
            "80\n"
          ]
        }
      ]
    },
    {
      "cell_type": "markdown",
      "source": [
        "##Function Question (😍 The function is partially defined)\n",
        "\n"
      ],
      "metadata": {
        "id": "kc31WU6w8Obs"
      }
    },
    {
      "cell_type": "code",
      "source": [
        "def divide_numbers(num1, num2):\n",
        "result = divide_numbers(20, 4)\n",
        "print(result)"
      ],
      "metadata": {
        "id": "DhIodTH9B6Jd",
        "outputId": "7c6719d0-98ce-4765-8046-a252a9479e1e",
        "colab": {
          "base_uri": "https://localhost:8080/",
          "height": 110
        }
      },
      "execution_count": 9,
      "outputs": [
        {
          "output_type": "error",
          "ename": "IndentationError",
          "evalue": "expected an indented block after function definition on line 1 (<ipython-input-9-516bf2d8249f>, line 2)",
          "traceback": [
            "\u001b[0;36m  File \u001b[0;32m\"<ipython-input-9-516bf2d8249f>\"\u001b[0;36m, line \u001b[0;32m2\u001b[0m\n\u001b[0;31m    result = divide_numbers(20, 4)\u001b[0m\n\u001b[0m    ^\u001b[0m\n\u001b[0;31mIndentationError\u001b[0m\u001b[0;31m:\u001b[0m expected an indented block after function definition on line 1\n"
          ]
        }
      ]
    },
    {
      "cell_type": "markdown",
      "source": [
        "😍 Check how we can fix the problem above"
      ],
      "metadata": {
        "id": "fSW7_1gEKmVn"
      }
    },
    {
      "cell_type": "code",
      "source": [
        "def divide_numbers(num1, num2):\n",
        "  return num1/num2\n",
        "result = divide_numbers(20, 4)\n",
        "print(result)"
      ],
      "metadata": {
        "id": "1_QjGrJA8GKD",
        "outputId": "b38c75ac-850f-4755-eb9a-006ba8fcc2d4",
        "colab": {
          "base_uri": "https://localhost:8080/"
        }
      },
      "execution_count": 10,
      "outputs": [
        {
          "output_type": "stream",
          "name": "stdout",
          "text": [
            "5.0\n"
          ]
        }
      ]
    },
    {
      "cell_type": "markdown",
      "source": [
        "---\n",
        "The End (😍 I hope you practice the rest :-)"
      ],
      "metadata": {
        "id": "-w5U8qu0KuuY"
      }
    }
  ]
}