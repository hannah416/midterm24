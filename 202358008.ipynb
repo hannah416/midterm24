{
  "nbformat": 4,
  "nbformat_minor": 0,
  "metadata": {
    "colab": {
      "provenance": [],
      "authorship_tag": "ABX9TyNNGgqTwaA5+mrizBXMNiiX",
      "include_colab_link": true
    },
    "kernelspec": {
      "name": "python3",
      "display_name": "Python 3"
    },
    "language_info": {
      "name": "python"
    }
  },
  "cells": [
    {
      "cell_type": "markdown",
      "metadata": {
        "id": "view-in-github",
        "colab_type": "text"
      },
      "source": [
        "<a href=\"https://colab.research.google.com/github/hannah416/midterm24/blob/main/202358008.ipynb\" target=\"_parent\"><img src=\"https://colab.research.google.com/assets/colab-badge.svg\" alt=\"Open In Colab\"/></a>"
      ]
    },
    {
      "cell_type": "code",
      "execution_count": null,
      "metadata": {
        "id": "Fj3i4FtB33eS"
      },
      "outputs": [],
      "source": []
    },
    {
      "cell_type": "markdown",
      "source": [
        "# 🌀Midterm 2024: Hannah Jang (202358008)\n",
        "\n",
        "\n",
        "\n"
      ],
      "metadata": {
        "id": "trApWpLuwFhD"
      }
    },
    {
      "cell_type": "markdown",
      "source": [
        "## Variable Question\n",
        "\n",
        "# Mary 1998 Ohio and John 1999 Boston\n",
        "\n"
      ],
      "metadata": {
        "id": "vww-Ul0zxmZs"
      }
    },
    {
      "cell_type": "code",
      "source": [
        "name = input(\"Name:Mary,John\"); born in = input('born_in:1998,1999'); hometown = input('hometown:Ohio,Boston')\n",
        "\n",
        "\n",
        "print(f\"Hello, my name is {name}. I was born in {born_in} and I'm from {hometown}. Nice to meet you!\")"
      ],
      "metadata": {
        "id": "fw4hFXidBwbv"
      },
      "execution_count": null,
      "outputs": []
    },
    {
      "cell_type": "markdown",
      "source": [
        "## Index Question\n",
        "\n",
        "# Dropdown\n",
        "\n"
      ],
      "metadata": {
        "id": "IyUkGc_h4A85"
      }
    },
    {
      "cell_type": "code",
      "source": [
        "cardinal_number = \"2\" #@param = [\"1\",\"2\",\"3\",\"4\"]\n",
        "\n",
        "cardinal_number = int(cardinal_number) - 1\n",
        "\n",
        "words = [\"First\", \"Second\", \"Third\", \"Fourth\"]\n",
        "\n",
        "\n",
        "print(\"The ordinal expression:\", words[cardinal_number])"
      ],
      "metadata": {
        "id": "CRh_80YwB1hS"
      },
      "execution_count": null,
      "outputs": []
    },
    {
      "cell_type": "markdown",
      "source": [
        "## Name Question\n",
        "\n",
        "# Name Question\n"
      ],
      "metadata": {
        "id": "lX2vCR1k53gg"
      }
    },
    {
      "cell_type": "code",
      "source": [
        "x = \"My name is\"\n",
        "y = \"Hannah\"\n",
        "\n",
        "print(f\"{x} {y}.\")\n"
      ],
      "metadata": {
        "id": "HYiwBIRoB4Th"
      },
      "execution_count": null,
      "outputs": []
    },
    {
      "cell_type": "markdown",
      "source": [
        "## Dictionary Question\n",
        "\n"
      ],
      "metadata": {
        "id": "Rz0R-cJ26_a-"
      }
    },
    {
      "cell_type": "code",
      "source": [
        "grades = {\n",
        "    \"Hannah\": 99,\n",
        "    \"Han\": 98,\n",
        "    \"Bob\": 80\n",
        "    }\n",
        "    print(grades[\"Bob\"])"
      ],
      "metadata": {
        "id": "5zv7Tav07Gbc"
      },
      "execution_count": null,
      "outputs": []
    },
    {
      "cell_type": "markdown",
      "source": [
        "##Function Question\n",
        "\n"
      ],
      "metadata": {
        "id": "kc31WU6w8Obs"
      }
    },
    {
      "cell_type": "code",
      "source": [
        "def divide_numbers(num1, num2):\n",
        "result = divide_numbers(20, 4)\n",
        "print(result)"
      ],
      "metadata": {
        "id": "DhIodTH9B6Jd"
      },
      "execution_count": null,
      "outputs": []
    },
    {
      "cell_type": "code",
      "source": [],
      "metadata": {
        "id": "1_QjGrJA8GKD"
      },
      "execution_count": null,
      "outputs": []
    }
  ]
}